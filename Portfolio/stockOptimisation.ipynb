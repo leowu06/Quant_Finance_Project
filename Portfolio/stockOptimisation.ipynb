{
 "cells": [
  {
   "cell_type": "code",
   "execution_count": 159,
   "metadata": {},
   "outputs": [],
   "source": [
    "import numpy as np\n",
    "import pandas as pd\n",
    "import yfinance as yf\n",
    "from datetime import timedelta, datetime\n",
    "from scipy.optimize import minimize"
   ]
  },
  {
   "cell_type": "code",
   "execution_count": 160,
   "metadata": {},
   "outputs": [],
   "source": [
    "tickers = ['SPY', 'GLD', 'BND', 'QQQ', 'VTI']\n",
    "\n"
   ]
  },
  {
   "cell_type": "code",
   "execution_count": 161,
   "metadata": {},
   "outputs": [],
   "source": [
    "endDate = datetime.today()"
   ]
  },
  {
   "cell_type": "code",
   "execution_count": 162,
   "metadata": {},
   "outputs": [],
   "source": [
    "startDate = endDate - timedelta(days = 8*365)"
   ]
  },
  {
   "cell_type": "code",
   "execution_count": 163,
   "metadata": {},
   "outputs": [
    {
     "data": {
      "text/plain": [
       "(datetime.datetime(2017, 7, 4, 19, 3, 54, 995359),\n",
       " datetime.datetime(2025, 7, 2, 19, 3, 54, 995359))"
      ]
     },
     "execution_count": 163,
     "metadata": {},
     "output_type": "execute_result"
    }
   ],
   "source": [
    "startDate,endDate"
   ]
  },
  {
   "cell_type": "code",
   "execution_count": 164,
   "metadata": {},
   "outputs": [],
   "source": [
    "adjClosedDf = pd.DataFrame()"
   ]
  },
  {
   "cell_type": "code",
   "execution_count": 165,
   "metadata": {},
   "outputs": [
    {
     "name": "stderr",
     "output_type": "stream",
     "text": [
      "/var/folders/0x/6ycvsk251gzgt9yyt7nztpk40000gn/T/ipykernel_49348/299834994.py:2: FutureWarning: YF.download() has changed argument auto_adjust default to True\n",
      "  data = yf.download(ticker, start = startDate, end = endDate)\n",
      "[*********************100%***********************]  1 of 1 completed\n",
      "/var/folders/0x/6ycvsk251gzgt9yyt7nztpk40000gn/T/ipykernel_49348/299834994.py:2: FutureWarning: YF.download() has changed argument auto_adjust default to True\n",
      "  data = yf.download(ticker, start = startDate, end = endDate)\n",
      "[*********************100%***********************]  1 of 1 completed\n",
      "/var/folders/0x/6ycvsk251gzgt9yyt7nztpk40000gn/T/ipykernel_49348/299834994.py:2: FutureWarning: YF.download() has changed argument auto_adjust default to True\n",
      "  data = yf.download(ticker, start = startDate, end = endDate)\n",
      "[*********************100%***********************]  1 of 1 completed\n",
      "/var/folders/0x/6ycvsk251gzgt9yyt7nztpk40000gn/T/ipykernel_49348/299834994.py:2: FutureWarning: YF.download() has changed argument auto_adjust default to True\n",
      "  data = yf.download(ticker, start = startDate, end = endDate)\n",
      "[*********************100%***********************]  1 of 1 completed\n",
      "/var/folders/0x/6ycvsk251gzgt9yyt7nztpk40000gn/T/ipykernel_49348/299834994.py:2: FutureWarning: YF.download() has changed argument auto_adjust default to True\n",
      "  data = yf.download(ticker, start = startDate, end = endDate)\n",
      "[*********************100%***********************]  1 of 1 completed\n"
     ]
    },
    {
     "data": {
      "text/html": [
       "<div>\n",
       "<style scoped>\n",
       "    .dataframe tbody tr th:only-of-type {\n",
       "        vertical-align: middle;\n",
       "    }\n",
       "\n",
       "    .dataframe tbody tr th {\n",
       "        vertical-align: top;\n",
       "    }\n",
       "\n",
       "    .dataframe thead th {\n",
       "        text-align: right;\n",
       "    }\n",
       "</style>\n",
       "<table border=\"1\" class=\"dataframe\">\n",
       "  <thead>\n",
       "    <tr style=\"text-align: right;\">\n",
       "      <th></th>\n",
       "      <th>SPY</th>\n",
       "      <th>GLD</th>\n",
       "      <th>BND</th>\n",
       "      <th>QQQ</th>\n",
       "      <th>VTI</th>\n",
       "    </tr>\n",
       "    <tr>\n",
       "      <th>Date</th>\n",
       "      <th></th>\n",
       "      <th></th>\n",
       "      <th></th>\n",
       "      <th></th>\n",
       "      <th></th>\n",
       "    </tr>\n",
       "  </thead>\n",
       "  <tbody>\n",
       "    <tr>\n",
       "      <th>2017-07-05</th>\n",
       "      <td>213.335724</td>\n",
       "      <td>116.519997</td>\n",
       "      <td>64.799820</td>\n",
       "      <td>130.281403</td>\n",
       "      <td>109.696579</td>\n",
       "    </tr>\n",
       "    <tr>\n",
       "      <th>2017-07-06</th>\n",
       "      <td>211.384888</td>\n",
       "      <td>116.470001</td>\n",
       "      <td>64.648849</td>\n",
       "      <td>129.106766</td>\n",
       "      <td>108.616196</td>\n",
       "    </tr>\n",
       "    <tr>\n",
       "      <th>2017-07-07</th>\n",
       "      <td>212.755737</td>\n",
       "      <td>115.279999</td>\n",
       "      <td>64.632965</td>\n",
       "      <td>130.499298</td>\n",
       "      <td>109.371567</td>\n",
       "    </tr>\n",
       "    <tr>\n",
       "      <th>2017-07-10</th>\n",
       "      <td>212.984192</td>\n",
       "      <td>115.470001</td>\n",
       "      <td>64.664726</td>\n",
       "      <td>131.351791</td>\n",
       "      <td>109.450607</td>\n",
       "    </tr>\n",
       "    <tr>\n",
       "      <th>2017-07-11</th>\n",
       "      <td>212.826050</td>\n",
       "      <td>115.620003</td>\n",
       "      <td>64.728302</td>\n",
       "      <td>131.721268</td>\n",
       "      <td>109.424248</td>\n",
       "    </tr>\n",
       "    <tr>\n",
       "      <th>...</th>\n",
       "      <td>...</td>\n",
       "      <td>...</td>\n",
       "      <td>...</td>\n",
       "      <td>...</td>\n",
       "      <td>...</td>\n",
       "    </tr>\n",
       "    <tr>\n",
       "      <th>2025-06-26</th>\n",
       "      <td>611.869995</td>\n",
       "      <td>306.779999</td>\n",
       "      <td>73.275383</td>\n",
       "      <td>546.219971</td>\n",
       "      <td>301.031128</td>\n",
       "    </tr>\n",
       "    <tr>\n",
       "      <th>2025-06-27</th>\n",
       "      <td>614.909973</td>\n",
       "      <td>301.220001</td>\n",
       "      <td>73.105919</td>\n",
       "      <td>548.090027</td>\n",
       "      <td>302.397003</td>\n",
       "    </tr>\n",
       "    <tr>\n",
       "      <th>2025-06-30</th>\n",
       "      <td>617.849976</td>\n",
       "      <td>304.829987</td>\n",
       "      <td>73.394997</td>\n",
       "      <td>551.640015</td>\n",
       "      <td>303.929993</td>\n",
       "    </tr>\n",
       "    <tr>\n",
       "      <th>2025-07-01</th>\n",
       "      <td>617.650024</td>\n",
       "      <td>307.549988</td>\n",
       "      <td>73.339996</td>\n",
       "      <td>546.989990</td>\n",
       "      <td>303.929993</td>\n",
       "    </tr>\n",
       "    <tr>\n",
       "      <th>2025-07-02</th>\n",
       "      <td>619.349976</td>\n",
       "      <td>308.345001</td>\n",
       "      <td>73.184998</td>\n",
       "      <td>550.190002</td>\n",
       "      <td>304.929993</td>\n",
       "    </tr>\n",
       "  </tbody>\n",
       "</table>\n",
       "<p>2010 rows × 5 columns</p>\n",
       "</div>"
      ],
      "text/plain": [
       "                   SPY         GLD        BND         QQQ         VTI\n",
       "Date                                                                 \n",
       "2017-07-05  213.335724  116.519997  64.799820  130.281403  109.696579\n",
       "2017-07-06  211.384888  116.470001  64.648849  129.106766  108.616196\n",
       "2017-07-07  212.755737  115.279999  64.632965  130.499298  109.371567\n",
       "2017-07-10  212.984192  115.470001  64.664726  131.351791  109.450607\n",
       "2017-07-11  212.826050  115.620003  64.728302  131.721268  109.424248\n",
       "...                ...         ...        ...         ...         ...\n",
       "2025-06-26  611.869995  306.779999  73.275383  546.219971  301.031128\n",
       "2025-06-27  614.909973  301.220001  73.105919  548.090027  302.397003\n",
       "2025-06-30  617.849976  304.829987  73.394997  551.640015  303.929993\n",
       "2025-07-01  617.650024  307.549988  73.339996  546.989990  303.929993\n",
       "2025-07-02  619.349976  308.345001  73.184998  550.190002  304.929993\n",
       "\n",
       "[2010 rows x 5 columns]"
      ]
     },
     "execution_count": 165,
     "metadata": {},
     "output_type": "execute_result"
    }
   ],
   "source": [
    "for ticker in tickers:\n",
    "    data = yf.download(ticker, start = startDate, end = endDate)\n",
    "    adjClosedDf[ticker] = data['Close']\n",
    "\n",
    "adjClosedDf"
   ]
  },
  {
   "cell_type": "code",
   "execution_count": 166,
   "metadata": {},
   "outputs": [
    {
     "data": {
      "text/html": [
       "<div>\n",
       "<style scoped>\n",
       "    .dataframe tbody tr th:only-of-type {\n",
       "        vertical-align: middle;\n",
       "    }\n",
       "\n",
       "    .dataframe tbody tr th {\n",
       "        vertical-align: top;\n",
       "    }\n",
       "\n",
       "    .dataframe thead th {\n",
       "        text-align: right;\n",
       "    }\n",
       "</style>\n",
       "<table border=\"1\" class=\"dataframe\">\n",
       "  <thead>\n",
       "    <tr style=\"text-align: right;\">\n",
       "      <th></th>\n",
       "      <th>SPY</th>\n",
       "      <th>GLD</th>\n",
       "      <th>BND</th>\n",
       "      <th>QQQ</th>\n",
       "      <th>VTI</th>\n",
       "    </tr>\n",
       "    <tr>\n",
       "      <th>Date</th>\n",
       "      <th></th>\n",
       "      <th></th>\n",
       "      <th></th>\n",
       "      <th></th>\n",
       "      <th></th>\n",
       "    </tr>\n",
       "  </thead>\n",
       "  <tbody>\n",
       "    <tr>\n",
       "      <th>2017-07-05</th>\n",
       "      <td>213.335724</td>\n",
       "      <td>116.519997</td>\n",
       "      <td>64.799820</td>\n",
       "      <td>130.281403</td>\n",
       "      <td>109.696579</td>\n",
       "    </tr>\n",
       "    <tr>\n",
       "      <th>2017-07-06</th>\n",
       "      <td>211.384888</td>\n",
       "      <td>116.470001</td>\n",
       "      <td>64.648849</td>\n",
       "      <td>129.106766</td>\n",
       "      <td>108.616196</td>\n",
       "    </tr>\n",
       "    <tr>\n",
       "      <th>2017-07-07</th>\n",
       "      <td>212.755737</td>\n",
       "      <td>115.279999</td>\n",
       "      <td>64.632965</td>\n",
       "      <td>130.499298</td>\n",
       "      <td>109.371567</td>\n",
       "    </tr>\n",
       "    <tr>\n",
       "      <th>2017-07-10</th>\n",
       "      <td>212.984192</td>\n",
       "      <td>115.470001</td>\n",
       "      <td>64.664726</td>\n",
       "      <td>131.351791</td>\n",
       "      <td>109.450607</td>\n",
       "    </tr>\n",
       "    <tr>\n",
       "      <th>2017-07-11</th>\n",
       "      <td>212.826050</td>\n",
       "      <td>115.620003</td>\n",
       "      <td>64.728302</td>\n",
       "      <td>131.721268</td>\n",
       "      <td>109.424248</td>\n",
       "    </tr>\n",
       "    <tr>\n",
       "      <th>...</th>\n",
       "      <td>...</td>\n",
       "      <td>...</td>\n",
       "      <td>...</td>\n",
       "      <td>...</td>\n",
       "      <td>...</td>\n",
       "    </tr>\n",
       "    <tr>\n",
       "      <th>2025-06-26</th>\n",
       "      <td>611.869995</td>\n",
       "      <td>306.779999</td>\n",
       "      <td>73.275383</td>\n",
       "      <td>546.219971</td>\n",
       "      <td>301.031128</td>\n",
       "    </tr>\n",
       "    <tr>\n",
       "      <th>2025-06-27</th>\n",
       "      <td>614.909973</td>\n",
       "      <td>301.220001</td>\n",
       "      <td>73.105919</td>\n",
       "      <td>548.090027</td>\n",
       "      <td>302.397003</td>\n",
       "    </tr>\n",
       "    <tr>\n",
       "      <th>2025-06-30</th>\n",
       "      <td>617.849976</td>\n",
       "      <td>304.829987</td>\n",
       "      <td>73.394997</td>\n",
       "      <td>551.640015</td>\n",
       "      <td>303.929993</td>\n",
       "    </tr>\n",
       "    <tr>\n",
       "      <th>2025-07-01</th>\n",
       "      <td>617.650024</td>\n",
       "      <td>307.549988</td>\n",
       "      <td>73.339996</td>\n",
       "      <td>546.989990</td>\n",
       "      <td>303.929993</td>\n",
       "    </tr>\n",
       "    <tr>\n",
       "      <th>2025-07-02</th>\n",
       "      <td>619.349976</td>\n",
       "      <td>308.345001</td>\n",
       "      <td>73.184998</td>\n",
       "      <td>550.190002</td>\n",
       "      <td>304.929993</td>\n",
       "    </tr>\n",
       "  </tbody>\n",
       "</table>\n",
       "<p>2010 rows × 5 columns</p>\n",
       "</div>"
      ],
      "text/plain": [
       "                   SPY         GLD        BND         QQQ         VTI\n",
       "Date                                                                 \n",
       "2017-07-05  213.335724  116.519997  64.799820  130.281403  109.696579\n",
       "2017-07-06  211.384888  116.470001  64.648849  129.106766  108.616196\n",
       "2017-07-07  212.755737  115.279999  64.632965  130.499298  109.371567\n",
       "2017-07-10  212.984192  115.470001  64.664726  131.351791  109.450607\n",
       "2017-07-11  212.826050  115.620003  64.728302  131.721268  109.424248\n",
       "...                ...         ...        ...         ...         ...\n",
       "2025-06-26  611.869995  306.779999  73.275383  546.219971  301.031128\n",
       "2025-06-27  614.909973  301.220001  73.105919  548.090027  302.397003\n",
       "2025-06-30  617.849976  304.829987  73.394997  551.640015  303.929993\n",
       "2025-07-01  617.650024  307.549988  73.339996  546.989990  303.929993\n",
       "2025-07-02  619.349976  308.345001  73.184998  550.190002  304.929993\n",
       "\n",
       "[2010 rows x 5 columns]"
      ]
     },
     "execution_count": 166,
     "metadata": {},
     "output_type": "execute_result"
    }
   ],
   "source": [
    "adjClosedDf"
   ]
  },
  {
   "cell_type": "code",
   "execution_count": 167,
   "metadata": {},
   "outputs": [],
   "source": [
    "logReturns = np.log(adjClosedDf/adjClosedDf.shift(1))"
   ]
  },
  {
   "cell_type": "code",
   "execution_count": 168,
   "metadata": {
    "tags": [
     "drop any missing values"
    ]
   },
   "outputs": [],
   "source": [
    "logReturns = logReturns.dropna()"
   ]
  },
  {
   "cell_type": "markdown",
   "metadata": {},
   "source": [
    "Calculate covariance Matrix, measures the 'risk'. to calculate st deviation.\n"
   ]
  },
  {
   "cell_type": "code",
   "execution_count": 169,
   "metadata": {},
   "outputs": [
    {
     "data": {
      "text/html": [
       "<div>\n",
       "<style scoped>\n",
       "    .dataframe tbody tr th:only-of-type {\n",
       "        vertical-align: middle;\n",
       "    }\n",
       "\n",
       "    .dataframe tbody tr th {\n",
       "        vertical-align: top;\n",
       "    }\n",
       "\n",
       "    .dataframe thead th {\n",
       "        text-align: right;\n",
       "    }\n",
       "</style>\n",
       "<table border=\"1\" class=\"dataframe\">\n",
       "  <thead>\n",
       "    <tr style=\"text-align: right;\">\n",
       "      <th></th>\n",
       "      <th>SPY</th>\n",
       "      <th>GLD</th>\n",
       "      <th>BND</th>\n",
       "      <th>QQQ</th>\n",
       "      <th>VTI</th>\n",
       "    </tr>\n",
       "  </thead>\n",
       "  <tbody>\n",
       "    <tr>\n",
       "      <th>SPY</th>\n",
       "      <td>0.037578</td>\n",
       "      <td>0.002572</td>\n",
       "      <td>0.001738</td>\n",
       "      <td>0.043468</td>\n",
       "      <td>0.038170</td>\n",
       "    </tr>\n",
       "    <tr>\n",
       "      <th>GLD</th>\n",
       "      <td>0.002572</td>\n",
       "      <td>0.021010</td>\n",
       "      <td>0.002886</td>\n",
       "      <td>0.003502</td>\n",
       "      <td>0.002707</td>\n",
       "    </tr>\n",
       "    <tr>\n",
       "      <th>BND</th>\n",
       "      <td>0.001738</td>\n",
       "      <td>0.002886</td>\n",
       "      <td>0.003530</td>\n",
       "      <td>0.002079</td>\n",
       "      <td>0.001853</td>\n",
       "    </tr>\n",
       "    <tr>\n",
       "      <th>QQQ</th>\n",
       "      <td>0.043468</td>\n",
       "      <td>0.003502</td>\n",
       "      <td>0.002079</td>\n",
       "      <td>0.057389</td>\n",
       "      <td>0.044091</td>\n",
       "    </tr>\n",
       "    <tr>\n",
       "      <th>VTI</th>\n",
       "      <td>0.038170</td>\n",
       "      <td>0.002707</td>\n",
       "      <td>0.001853</td>\n",
       "      <td>0.044091</td>\n",
       "      <td>0.039074</td>\n",
       "    </tr>\n",
       "  </tbody>\n",
       "</table>\n",
       "</div>"
      ],
      "text/plain": [
       "          SPY       GLD       BND       QQQ       VTI\n",
       "SPY  0.037578  0.002572  0.001738  0.043468  0.038170\n",
       "GLD  0.002572  0.021010  0.002886  0.003502  0.002707\n",
       "BND  0.001738  0.002886  0.003530  0.002079  0.001853\n",
       "QQQ  0.043468  0.003502  0.002079  0.057389  0.044091\n",
       "VTI  0.038170  0.002707  0.001853  0.044091  0.039074"
      ]
     },
     "execution_count": 169,
     "metadata": {},
     "output_type": "execute_result"
    }
   ],
   "source": [
    "covMatrix = logReturns.cov()*252\n",
    "covMatrix"
   ]
  },
  {
   "cell_type": "markdown",
   "metadata": {},
   "source": [
    "Portfolio performance metrics"
   ]
  },
  {
   "cell_type": "code",
   "execution_count": 170,
   "metadata": {},
   "outputs": [],
   "source": [
    "def standardDeviation(weights, covMatrix):\n",
    "    variance = weights.T @ covMatrix @ weights\n",
    "    return np.sqrt(variance)\n"
   ]
  },
  {
   "cell_type": "markdown",
   "metadata": {},
   "source": [
    "Calculate expected return\n",
    "\n",
    "\n",
    "\n"
   ]
  },
  {
   "cell_type": "code",
   "execution_count": 171,
   "metadata": {},
   "outputs": [],
   "source": [
    "def expectedReturn(weights, logReturns):\n",
    "    return np.sum(logReturns.mean()*weights)*252"
   ]
  },
  {
   "cell_type": "markdown",
   "metadata": {},
   "source": [
    "Calculate SharpeRatio\n"
   ]
  },
  {
   "cell_type": "code",
   "execution_count": 172,
   "metadata": {},
   "outputs": [],
   "source": [
    "def sharpeRatio(weights, logReturns, covMatrix, riskFreeRate):\n",
    "    return((expectedReturn(weights, logReturns)-riskFreeRate)/standardDeviation(weights,covMatrix))"
   ]
  },
  {
   "cell_type": "markdown",
   "metadata": {},
   "source": [
    "Use federal reserve API for riskfree rate"
   ]
  },
  {
   "cell_type": "code",
   "execution_count": 173,
   "metadata": {},
   "outputs": [],
   "source": [
    "import fredapi\n",
    "riskFreeRate = 0.036"
   ]
  },
  {
   "cell_type": "code",
   "execution_count": 174,
   "metadata": {},
   "outputs": [
    {
     "name": "stdout",
     "output_type": "stream",
     "text": [
      "zsh:1: command not found: pip\n"
     ]
    }
   ],
   "source": [
    "!pip install fredapi"
   ]
  },
  {
   "cell_type": "code",
   "execution_count": 175,
   "metadata": {},
   "outputs": [
    {
     "name": "stdout",
     "output_type": "stream",
     "text": [
      "Requirement already satisfied: fredapi in /Library/Frameworks/Python.framework/Versions/3.13/lib/python3.13/site-packages (0.5.2)\n",
      "Requirement already satisfied: pandas in /Library/Frameworks/Python.framework/Versions/3.13/lib/python3.13/site-packages (from fredapi) (2.3.0)\n",
      "Requirement already satisfied: numpy>=1.26.0 in /Library/Frameworks/Python.framework/Versions/3.13/lib/python3.13/site-packages (from pandas->fredapi) (2.3.1)\n",
      "Requirement already satisfied: python-dateutil>=2.8.2 in /Library/Frameworks/Python.framework/Versions/3.13/lib/python3.13/site-packages (from pandas->fredapi) (2.9.0.post0)\n",
      "Requirement already satisfied: pytz>=2020.1 in /Library/Frameworks/Python.framework/Versions/3.13/lib/python3.13/site-packages (from pandas->fredapi) (2025.2)\n",
      "Requirement already satisfied: tzdata>=2022.7 in /Library/Frameworks/Python.framework/Versions/3.13/lib/python3.13/site-packages (from pandas->fredapi) (2025.2)\n",
      "Requirement already satisfied: six>=1.5 in /Library/Frameworks/Python.framework/Versions/3.13/lib/python3.13/site-packages (from python-dateutil>=2.8.2->pandas->fredapi) (1.17.0)\n"
     ]
    }
   ],
   "source": [
    "import sys\n",
    "!{sys.executable} -m pip install fredapi\n"
   ]
  },
  {
   "cell_type": "code",
   "execution_count": 176,
   "metadata": {},
   "outputs": [],
   "source": [
    "from fredapi import Fred"
   ]
  },
  {
   "cell_type": "code",
   "execution_count": 177,
   "metadata": {},
   "outputs": [],
   "source": [
    "def negSharpeRatio(weights, logReturns, covMatrix, riskFreeRate):\n",
    "    return-(sharpeRatio(weights,logReturns,covMatrix,riskFreeRate))"
   ]
  },
  {
   "cell_type": "markdown",
   "metadata": {},
   "source": [
    "Making Constraints"
   ]
  },
  {
   "cell_type": "code",
   "execution_count": 178,
   "metadata": {},
   "outputs": [],
   "source": [
    "constraints = {'type': 'eq', 'fun': lambda weights: np.sum(weights)-1}"
   ]
  },
  {
   "cell_type": "code",
   "execution_count": 179,
   "metadata": {},
   "outputs": [],
   "source": [
    "bounds = [(0,0.4)for _ in range(len(tickers))]\n"
   ]
  },
  {
   "cell_type": "markdown",
   "metadata": {},
   "source": [
    "set initial weights\n"
   ]
  },
  {
   "cell_type": "code",
   "execution_count": 180,
   "metadata": {},
   "outputs": [
    {
     "data": {
      "text/plain": [
       "array([0.2, 0.2, 0.2, 0.2, 0.2])"
      ]
     },
     "execution_count": 180,
     "metadata": {},
     "output_type": "execute_result"
    }
   ],
   "source": [
    "initialWeights = np.array([1/len(tickers)]*len(tickers))\n",
    "initialWeights"
   ]
  },
  {
   "cell_type": "code",
   "execution_count": 181,
   "metadata": {},
   "outputs": [],
   "source": [
    "optimizedResults = minimize(negSharpeRatio, initialWeights, args=(logReturns,covMatrix,riskFreeRate), method='SLSQP', constraints=constraints, bounds=bounds)"
   ]
  },
  {
   "cell_type": "code",
   "execution_count": 182,
   "metadata": {},
   "outputs": [],
   "source": [
    "optimalWeights = optimizedResults.x"
   ]
  },
  {
   "cell_type": "markdown",
   "metadata": {},
   "source": [
    "Display weights"
   ]
  },
  {
   "cell_type": "code",
   "execution_count": 183,
   "metadata": {},
   "outputs": [
    {
     "name": "stdout",
     "output_type": "stream",
     "text": [
      "Optimal Weights:\n",
      "SPY: 0.2000\n",
      "GLD: 0.4000\n",
      "BND: 0.0000\n",
      "QQQ: 0.4000\n",
      "VTI: 0.0000\n",
      "\n",
      "Expected annual return: 0.1478\n",
      "Expected Volatility: 0.1501\n",
      "Sharpe Ratio: 0.7451\n"
     ]
    }
   ],
   "source": [
    "print(\"Optimal Weights:\")\n",
    "for ticker,weight in zip(tickers, optimalWeights):\n",
    "    print(f\"{ticker}: {weight:.4f}\")\n",
    "print()\n",
    "opr = expectedReturn(optimalWeights, logReturns)\n",
    "opv = standardDeviation(optimalWeights, covMatrix)\n",
    "opsr = sharpeRatio(optimalWeights,logReturns,covMatrix,riskFreeRate)\n",
    "\n",
    "print(f\"Expected annual return: {opr:.4f}\")\n",
    "print(f\"Expected Volatility: {opv:.4f}\")\n",
    "print(f\"Sharpe Ratio: {opsr:.4f}\")"
   ]
  },
  {
   "cell_type": "code",
   "execution_count": 184,
   "metadata": {},
   "outputs": [],
   "source": [
    "import matplotlib.pyplot as plt\n"
   ]
  },
  {
   "cell_type": "code",
   "execution_count": 185,
   "metadata": {},
   "outputs": [
    {
     "data": {
      "text/plain": [
       "<function matplotlib.pyplot.show(close=None, block=None)>"
      ]
     },
     "execution_count": 185,
     "metadata": {},
     "output_type": "execute_result"
    },
    {
     "data": {
      "image/png": "[encoded data removed]",
      "text/plain": [
       "<Figure size 600x200 with 1 Axes>"
      ]
     },
     "metadata": {},
     "output_type": "display_data"
    }
   ],
   "source": [
    "plt.figure(figsize=(6,2))\n",
    "plt.bar(tickers, optimalWeights)\n",
    "\n",
    "plt.xlabel('Assets')\n",
    "plt.ylabel('Optimal Weights')\n",
    "plt.title('Optimal Portfolio Weights')\n",
    "plt.show"
   ]
  },
  {
   "cell_type": "code",
   "execution_count": null,
   "metadata": {},
   "outputs": [],
   "source": []
  }
 ],
 "metadata": {
  "kernelspec": {
   "display_name": "Python 3",
   "language": "python",
   "name": "python3"
  },
  "language_info": {
   "codemirror_mode": {
    "name": "ipython",
    "version": 3
   },
   "file_extension": ".py",
   "mimetype": "text/x-python",
   "name": "python",
   "nbconvert_exporter": "python",
   "pygments_lexer": "ipython3",
   "version": "3.13.5"
  }
 },
 "nbformat": 4,
 "nbformat_minor": 2
}
