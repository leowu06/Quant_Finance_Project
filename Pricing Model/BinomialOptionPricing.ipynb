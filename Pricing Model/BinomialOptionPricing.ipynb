{
 "cells": [
  {
   "cell_type": "code",
   "execution_count": 28,
   "metadata": {},
   "outputs": [],
   "source": [
    "import numpy as np"
   ]
  },
  {
   "cell_type": "code",
   "execution_count": 29,
   "metadata": {},
   "outputs": [],
   "source": [
    "S = 100       # Stock price today\n",
    "K = 100       # Strike price\n",
    "T = 1         # Time to maturity (1 year)\n",
    "r = 0.05      # Risk-free rate\n",
    "sigma = 0.2   # Volatility\n",
    "N = 30000         # Number of steps\n",
    "dt = T/N      # Length of each step in time"
   ]
  },
  {
   "cell_type": "code",
   "execution_count": 30,
   "metadata": {},
   "outputs": [],
   "source": [
    "u = np.exp(sigma * np.sqrt(dt)) #up move\n",
    "d = 1/u     #down move\n",
    "p = (np.exp(r*dt) - d) / (u - d)\n",
    "q = 1 - p\n",
    "discount = np.exp(-r * dt)\n"
   ]
  },
  {
   "cell_type": "markdown",
   "metadata": {},
   "source": [
    "Calculate payoffs at each point (possible future outcomes of portfolio on each node)\n"
   ]
  },
  {
   "cell_type": "code",
   "execution_count": 31,
   "metadata": {},
   "outputs": [
    {
     "name": "stdout",
     "output_type": "stream",
     "text": [
      "10.450516915201527\n"
     ]
    }
   ],
   "source": [
    "ST = np.array([S * (u**j) * (d**(N - j)) for j in range(N+1)])\n",
    "# j is the number of up moves, can be up 0 all the way to n times  \n",
    "optionValues = np.zeros((N+1,N+1))\n",
    "for j in range(N+1):\n",
    "    optionValues[N,j] = max(ST[j] - K, 0)      # On the Nth step, all payoffs of the branches\n",
    "for i in range(N-1, -1, -1):        # Already did Nth so now N-1\n",
    "    for j in range(i+1):        # j is each branch at step i, total are i+1 j's\n",
    "        optionValues[i,j] = discount * (p * optionValues[i+1, j+1] + q * optionValues[i+1, j])      # discount rate of the small step times the value of one step forward, expected portfolio value \n",
    "print(optionValues[0,0])"
   ]
  },
  {
   "cell_type": "code",
   "execution_count": null,
   "metadata": {},
   "outputs": [],
   "source": []
  }
 ],
 "metadata": {
  "kernelspec": {
   "display_name": "Python 3",
   "language": "python",
   "name": "python3"
  },
  "language_info": {
   "codemirror_mode": {
    "name": "ipython",
    "version": 3
   },
   "file_extension": ".py",
   "mimetype": "text/x-python",
   "name": "python",
   "nbconvert_exporter": "python",
   "pygments_lexer": "ipython3",
   "version": "3.13.5"
  }
 },
 "nbformat": 4,
 "nbformat_minor": 2
}
